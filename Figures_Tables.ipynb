{
  "nbformat": 4,
  "nbformat_minor": 0,
  "metadata": {
    "colab": {
      "provenance": [],
      "toc_visible": true,
      "authorship_tag": "ABX9TyO0nCz38DjwVLz7JHCAAbz6",
      "include_colab_link": true
    },
    "kernelspec": {
      "name": "python3",
      "display_name": "Python 3"
    },
    "language_info": {
      "name": "python"
    }
  },
  "cells": [
    {
      "cell_type": "markdown",
      "metadata": {
        "id": "view-in-github",
        "colab_type": "text"
      },
      "source": [
        "<a href=\"https://colab.research.google.com/github/tbeucler/2023_SD_REP/blob/main/Figures_Tables.ipynb\" target=\"_parent\"><img src=\"https://colab.research.google.com/assets/colab-badge.svg\" alt=\"Open In Colab\"/></a>"
      ]
    },
    {
      "cell_type": "markdown",
      "source": [
        "We designed this notebook so that it can be run in Google Colab. To prepare the data, **please upload `RV_Zip_Count.csv`and `Spatial_Join_SVI.dbf` in \"Files\"**.  \n",
        "\n",
        "We will install the required Python libraries, pre-process the data, then calculate simple statistics, and finally reproduce the study's figures."
      ],
      "metadata": {
        "id": "D07r2UZiTYRL"
      }
    },
    {
      "cell_type": "markdown",
      "source": [
        "# Python Libraries Installation and Import"
      ],
      "metadata": {
        "id": "KaBLhCnfUE4A"
      }
    },
    {
      "cell_type": "code",
      "source": [
        "# Install the required libraries (we specify the version to facilitate reproducibility)\n",
        "!pip install pandas==1.5.3\n",
        "!pip install simpledbf==0.2.6\n",
        "!pip install numpy==1.23.0\n",
        "!pip install matplotlib==3.7.2"
      ],
      "metadata": {
        "colab": {
          "base_uri": "https://localhost:8080/"
        },
        "id": "lgV7gbGUULlj",
        "outputId": "9e15661f-c0ce-434e-b545-9076de9819fa"
      },
      "execution_count": 72,
      "outputs": [
        {
          "output_type": "stream",
          "name": "stdout",
          "text": [
            "Requirement already satisfied: pandas==1.5.3 in /usr/local/lib/python3.10/dist-packages (1.5.3)\n",
            "Requirement already satisfied: python-dateutil>=2.8.1 in /usr/local/lib/python3.10/dist-packages (from pandas==1.5.3) (2.8.2)\n",
            "Requirement already satisfied: pytz>=2020.1 in /usr/local/lib/python3.10/dist-packages (from pandas==1.5.3) (2022.7.1)\n",
            "Requirement already satisfied: numpy>=1.21.0 in /usr/local/lib/python3.10/dist-packages (from pandas==1.5.3) (1.23.0)\n",
            "Requirement already satisfied: six>=1.5 in /usr/local/lib/python3.10/dist-packages (from python-dateutil>=2.8.1->pandas==1.5.3) (1.16.0)\n",
            "Requirement already satisfied: simpledbf==0.2.6 in /usr/local/lib/python3.10/dist-packages (0.2.6)\n",
            "Requirement already satisfied: numpy==1.23.0 in /usr/local/lib/python3.10/dist-packages (1.23.0)\n",
            "Requirement already satisfied: matplotlib==3.7.2 in /usr/local/lib/python3.10/dist-packages (3.7.2)\n",
            "Requirement already satisfied: contourpy>=1.0.1 in /usr/local/lib/python3.10/dist-packages (from matplotlib==3.7.2) (1.1.0)\n",
            "Requirement already satisfied: cycler>=0.10 in /usr/local/lib/python3.10/dist-packages (from matplotlib==3.7.2) (0.11.0)\n",
            "Requirement already satisfied: fonttools>=4.22.0 in /usr/local/lib/python3.10/dist-packages (from matplotlib==3.7.2) (4.41.0)\n",
            "Requirement already satisfied: kiwisolver>=1.0.1 in /usr/local/lib/python3.10/dist-packages (from matplotlib==3.7.2) (1.4.4)\n",
            "Requirement already satisfied: numpy>=1.20 in /usr/local/lib/python3.10/dist-packages (from matplotlib==3.7.2) (1.23.0)\n",
            "Requirement already satisfied: packaging>=20.0 in /usr/local/lib/python3.10/dist-packages (from matplotlib==3.7.2) (23.1)\n",
            "Requirement already satisfied: pillow>=6.2.0 in /usr/local/lib/python3.10/dist-packages (from matplotlib==3.7.2) (8.4.0)\n",
            "Requirement already satisfied: pyparsing<3.1,>=2.3.1 in /usr/local/lib/python3.10/dist-packages (from matplotlib==3.7.2) (3.0.9)\n",
            "Requirement already satisfied: python-dateutil>=2.7 in /usr/local/lib/python3.10/dist-packages (from matplotlib==3.7.2) (2.8.2)\n",
            "Requirement already satisfied: six>=1.5 in /usr/local/lib/python3.10/dist-packages (from python-dateutil>=2.7->matplotlib==3.7.2) (1.16.0)\n"
          ]
        }
      ]
    },
    {
      "cell_type": "code",
      "source": [
        "# Import the required libraries\n",
        "import matplotlib as mpl\n",
        "import matplotlib.pyplot as plt\n",
        "\n",
        "import numpy as np\n",
        "\n",
        "import pandas as pd\n",
        "\n",
        "import simpledbf\n",
        "from simpledbf import Dbf5"
      ],
      "metadata": {
        "id": "P1ydgXnQUVzC"
      },
      "execution_count": 73,
      "outputs": []
    },
    {
      "cell_type": "markdown",
      "source": [
        "# Data Pre-Processing"
      ],
      "metadata": {
        "id": "9XK6DhYmTFwf"
      }
    },
    {
      "cell_type": "markdown",
      "source": [
        "## Calculate the drop in Week 10-15 respiratory visits between 2016-2019 and 2020 per San Diego zipcode"
      ],
      "metadata": {
        "id": "bmm5t9K3TVU3"
      }
    },
    {
      "cell_type": "code",
      "source": [
        "# Read the data from a CSV file\n",
        "rv_zip_count = pd.read_csv('RV_Zip_Count.csv')"
      ],
      "metadata": {
        "id": "CPpoo-MsVcfK"
      },
      "execution_count": 74,
      "outputs": []
    },
    {
      "cell_type": "code",
      "source": [
        "# Duplicate rv_zip_count, but only keep 'week_of_year' from 10 to 15\n",
        "rv_zip_count_week_10_15 = rv_zip_count[rv_zip_count['week_of_year'].isin([10, 11, 12, 13, 14, 15])]"
      ],
      "metadata": {
        "id": "m_tUhrIJWMrd"
      },
      "execution_count": 75,
      "outputs": []
    },
    {
      "cell_type": "code",
      "source": [
        "# Per zip code and per year, sum all the patients from 'week_of_year' from 10 to 15\n",
        "rv_zip_sum_week_10_15 = rv_zip_count_week_10_15.groupby(['zip', 'year'])['Number of patients'].sum().reset_index()"
      ],
      "metadata": {
        "id": "6jdbX1ZqW8Ki"
      },
      "execution_count": 76,
      "outputs": []
    },
    {
      "cell_type": "code",
      "source": [
        "# Now average all years together except 2020\n",
        "# Average all years together except 2020\n",
        "diff = rv_zip_sum_week_10_15[rv_zip_sum_week_10_15['year'] != 2020]\n",
        "diff = (diff.groupby('zip')['Number of patients'].sum()/4).reset_index()"
      ],
      "metadata": {
        "id": "OiSUwGr0W-s2"
      },
      "execution_count": 77,
      "outputs": []
    },
    {
      "cell_type": "code",
      "source": [
        "# Replace the name of the column \"Number of patients\" with \"2016-2019\" in diff\n",
        "diff.rename(columns={'Number of patients': '2016-2019'}, inplace=True)"
      ],
      "metadata": {
        "id": "vighxU8EXCT_"
      },
      "execution_count": 78,
      "outputs": []
    },
    {
      "cell_type": "code",
      "source": [
        "# Extract the number of patients in 2020 from rv_zip_sum_week_10_15\n",
        "rv_zip_2020 = rv_zip_sum_week_10_15[rv_zip_sum_week_10_15['year'] == 2020]"
      ],
      "metadata": {
        "id": "OLMrhAqRXEHh"
      },
      "execution_count": 79,
      "outputs": []
    },
    {
      "cell_type": "code",
      "source": [
        "# Loop over zipcodes in diff to merge the 2016-2019 & 2020 visits in the same structure\n",
        "# If the zipcode is in rv_zip_2020, assign rv_zip_2020['Number of patients'] to diff['2020']\n",
        "for index, row in diff.iterrows():\n",
        "  if row['zip'] in rv_zip_2020['zip'].values:\n",
        "    diff.loc[index, '2020'] = rv_zip_2020.loc[rv_zip_2020['zip'] == row['zip']]['Number of patients'].values[0]\n",
        "  else: diff.loc[index, '2020'] = 0.0"
      ],
      "metadata": {
        "id": "lW1kaZiIXGgi"
      },
      "execution_count": 80,
      "outputs": []
    },
    {
      "cell_type": "code",
      "source": [
        "# Subtract the number of patients in diff from the number of patients in rv_zip_2020\n",
        "# Divide weeks 10-15 by 6 to get weekly drop in pediatric respiratory visits\n",
        "diff['six-week-diff'] = (diff['2020'] - diff['2016-2019'])\n",
        "diff['drop_in_patients'] = -diff['six-week-diff']/6"
      ],
      "metadata": {
        "id": "_NOi5OEzXJn6"
      },
      "execution_count": 81,
      "outputs": []
    },
    {
      "cell_type": "code",
      "source": [
        "# Only keep San Diego zipcodes\n",
        "# Delete all rows corresponding to 'zip' greater than 92199 and smaller than 91901\n",
        "diff = diff[(diff['zip'] <= 92199) & (diff['zip'] >= 91901)]"
      ],
      "metadata": {
        "id": "bl6kTgINXVDe"
      },
      "execution_count": 82,
      "outputs": []
    },
    {
      "cell_type": "code",
      "source": [
        "diff"
      ],
      "metadata": {
        "colab": {
          "base_uri": "https://localhost:8080/",
          "height": 423
        },
        "id": "yj4LPKXzX4O_",
        "outputId": "df414d6e-77a5-49a5-96ef-66b426e3d419"
      },
      "execution_count": 83,
      "outputs": [
        {
          "output_type": "execute_result",
          "data": {
            "text/plain": [
              "       zip  2016-2019  2020  six-week-diff  drop_in_patients\n",
              "149  91901       9.75   8.0          -1.75          0.291667\n",
              "150  91902      10.25   5.0          -5.25          0.875000\n",
              "151  91903       0.50   0.0          -0.50          0.083333\n",
              "152  91905       1.25   0.0          -1.25          0.208333\n",
              "153  91906       4.50   4.0          -0.50          0.083333\n",
              "..     ...        ...   ...            ...               ...\n",
              "273  92177       0.25   1.0           0.75         -0.125000\n",
              "274  92178       0.25   1.0           0.75         -0.125000\n",
              "275  92192       0.50   0.0          -0.50          0.083333\n",
              "276  92196       0.25   0.0          -0.25          0.041667\n",
              "277  92198       0.25   0.0          -0.25          0.041667\n",
              "\n",
              "[129 rows x 5 columns]"
            ],
            "text/html": [
              "\n",
              "\n",
              "  <div id=\"df-bfc87693-c37c-45f0-8ff7-87bcb128a8ee\">\n",
              "    <div class=\"colab-df-container\">\n",
              "      <div>\n",
              "<style scoped>\n",
              "    .dataframe tbody tr th:only-of-type {\n",
              "        vertical-align: middle;\n",
              "    }\n",
              "\n",
              "    .dataframe tbody tr th {\n",
              "        vertical-align: top;\n",
              "    }\n",
              "\n",
              "    .dataframe thead th {\n",
              "        text-align: right;\n",
              "    }\n",
              "</style>\n",
              "<table border=\"1\" class=\"dataframe\">\n",
              "  <thead>\n",
              "    <tr style=\"text-align: right;\">\n",
              "      <th></th>\n",
              "      <th>zip</th>\n",
              "      <th>2016-2019</th>\n",
              "      <th>2020</th>\n",
              "      <th>six-week-diff</th>\n",
              "      <th>drop_in_patients</th>\n",
              "    </tr>\n",
              "  </thead>\n",
              "  <tbody>\n",
              "    <tr>\n",
              "      <th>149</th>\n",
              "      <td>91901</td>\n",
              "      <td>9.75</td>\n",
              "      <td>8.0</td>\n",
              "      <td>-1.75</td>\n",
              "      <td>0.291667</td>\n",
              "    </tr>\n",
              "    <tr>\n",
              "      <th>150</th>\n",
              "      <td>91902</td>\n",
              "      <td>10.25</td>\n",
              "      <td>5.0</td>\n",
              "      <td>-5.25</td>\n",
              "      <td>0.875000</td>\n",
              "    </tr>\n",
              "    <tr>\n",
              "      <th>151</th>\n",
              "      <td>91903</td>\n",
              "      <td>0.50</td>\n",
              "      <td>0.0</td>\n",
              "      <td>-0.50</td>\n",
              "      <td>0.083333</td>\n",
              "    </tr>\n",
              "    <tr>\n",
              "      <th>152</th>\n",
              "      <td>91905</td>\n",
              "      <td>1.25</td>\n",
              "      <td>0.0</td>\n",
              "      <td>-1.25</td>\n",
              "      <td>0.208333</td>\n",
              "    </tr>\n",
              "    <tr>\n",
              "      <th>153</th>\n",
              "      <td>91906</td>\n",
              "      <td>4.50</td>\n",
              "      <td>4.0</td>\n",
              "      <td>-0.50</td>\n",
              "      <td>0.083333</td>\n",
              "    </tr>\n",
              "    <tr>\n",
              "      <th>...</th>\n",
              "      <td>...</td>\n",
              "      <td>...</td>\n",
              "      <td>...</td>\n",
              "      <td>...</td>\n",
              "      <td>...</td>\n",
              "    </tr>\n",
              "    <tr>\n",
              "      <th>273</th>\n",
              "      <td>92177</td>\n",
              "      <td>0.25</td>\n",
              "      <td>1.0</td>\n",
              "      <td>0.75</td>\n",
              "      <td>-0.125000</td>\n",
              "    </tr>\n",
              "    <tr>\n",
              "      <th>274</th>\n",
              "      <td>92178</td>\n",
              "      <td>0.25</td>\n",
              "      <td>1.0</td>\n",
              "      <td>0.75</td>\n",
              "      <td>-0.125000</td>\n",
              "    </tr>\n",
              "    <tr>\n",
              "      <th>275</th>\n",
              "      <td>92192</td>\n",
              "      <td>0.50</td>\n",
              "      <td>0.0</td>\n",
              "      <td>-0.50</td>\n",
              "      <td>0.083333</td>\n",
              "    </tr>\n",
              "    <tr>\n",
              "      <th>276</th>\n",
              "      <td>92196</td>\n",
              "      <td>0.25</td>\n",
              "      <td>0.0</td>\n",
              "      <td>-0.25</td>\n",
              "      <td>0.041667</td>\n",
              "    </tr>\n",
              "    <tr>\n",
              "      <th>277</th>\n",
              "      <td>92198</td>\n",
              "      <td>0.25</td>\n",
              "      <td>0.0</td>\n",
              "      <td>-0.25</td>\n",
              "      <td>0.041667</td>\n",
              "    </tr>\n",
              "  </tbody>\n",
              "</table>\n",
              "<p>129 rows × 5 columns</p>\n",
              "</div>\n",
              "      <button class=\"colab-df-convert\" onclick=\"convertToInteractive('df-bfc87693-c37c-45f0-8ff7-87bcb128a8ee')\"\n",
              "              title=\"Convert this dataframe to an interactive table.\"\n",
              "              style=\"display:none;\">\n",
              "\n",
              "  <svg xmlns=\"http://www.w3.org/2000/svg\" height=\"24px\"viewBox=\"0 0 24 24\"\n",
              "       width=\"24px\">\n",
              "    <path d=\"M0 0h24v24H0V0z\" fill=\"none\"/>\n",
              "    <path d=\"M18.56 5.44l.94 2.06.94-2.06 2.06-.94-2.06-.94-.94-2.06-.94 2.06-2.06.94zm-11 1L8.5 8.5l.94-2.06 2.06-.94-2.06-.94L8.5 2.5l-.94 2.06-2.06.94zm10 10l.94 2.06.94-2.06 2.06-.94-2.06-.94-.94-2.06-.94 2.06-2.06.94z\"/><path d=\"M17.41 7.96l-1.37-1.37c-.4-.4-.92-.59-1.43-.59-.52 0-1.04.2-1.43.59L10.3 9.45l-7.72 7.72c-.78.78-.78 2.05 0 2.83L4 21.41c.39.39.9.59 1.41.59.51 0 1.02-.2 1.41-.59l7.78-7.78 2.81-2.81c.8-.78.8-2.07 0-2.86zM5.41 20L4 18.59l7.72-7.72 1.47 1.35L5.41 20z\"/>\n",
              "  </svg>\n",
              "      </button>\n",
              "\n",
              "\n",
              "\n",
              "    <div id=\"df-ef42cf3d-c07d-4840-9772-3a19fb3ced1f\">\n",
              "      <button class=\"colab-df-quickchart\" onclick=\"quickchart('df-ef42cf3d-c07d-4840-9772-3a19fb3ced1f')\"\n",
              "              title=\"Suggest charts.\"\n",
              "              style=\"display:none;\">\n",
              "\n",
              "<svg xmlns=\"http://www.w3.org/2000/svg\" height=\"24px\"viewBox=\"0 0 24 24\"\n",
              "     width=\"24px\">\n",
              "    <g>\n",
              "        <path d=\"M19 3H5c-1.1 0-2 .9-2 2v14c0 1.1.9 2 2 2h14c1.1 0 2-.9 2-2V5c0-1.1-.9-2-2-2zM9 17H7v-7h2v7zm4 0h-2V7h2v10zm4 0h-2v-4h2v4z\"/>\n",
              "    </g>\n",
              "</svg>\n",
              "      </button>\n",
              "    </div>\n",
              "\n",
              "<style>\n",
              "  .colab-df-quickchart {\n",
              "    background-color: #E8F0FE;\n",
              "    border: none;\n",
              "    border-radius: 50%;\n",
              "    cursor: pointer;\n",
              "    display: none;\n",
              "    fill: #1967D2;\n",
              "    height: 32px;\n",
              "    padding: 0 0 0 0;\n",
              "    width: 32px;\n",
              "  }\n",
              "\n",
              "  .colab-df-quickchart:hover {\n",
              "    background-color: #E2EBFA;\n",
              "    box-shadow: 0px 1px 2px rgba(60, 64, 67, 0.3), 0px 1px 3px 1px rgba(60, 64, 67, 0.15);\n",
              "    fill: #174EA6;\n",
              "  }\n",
              "\n",
              "  [theme=dark] .colab-df-quickchart {\n",
              "    background-color: #3B4455;\n",
              "    fill: #D2E3FC;\n",
              "  }\n",
              "\n",
              "  [theme=dark] .colab-df-quickchart:hover {\n",
              "    background-color: #434B5C;\n",
              "    box-shadow: 0px 1px 3px 1px rgba(0, 0, 0, 0.15);\n",
              "    filter: drop-shadow(0px 1px 2px rgba(0, 0, 0, 0.3));\n",
              "    fill: #FFFFFF;\n",
              "  }\n",
              "</style>\n",
              "\n",
              "    <script>\n",
              "      async function quickchart(key) {\n",
              "        const containerElement = document.querySelector('#' + key);\n",
              "        const charts = await google.colab.kernel.invokeFunction(\n",
              "            'suggestCharts', [key], {});\n",
              "      }\n",
              "    </script>\n",
              "\n",
              "      <script>\n",
              "\n",
              "function displayQuickchartButton(domScope) {\n",
              "  let quickchartButtonEl =\n",
              "    domScope.querySelector('#df-ef42cf3d-c07d-4840-9772-3a19fb3ced1f button.colab-df-quickchart');\n",
              "  quickchartButtonEl.style.display =\n",
              "    google.colab.kernel.accessAllowed ? 'block' : 'none';\n",
              "}\n",
              "\n",
              "        displayQuickchartButton(document);\n",
              "      </script>\n",
              "      <style>\n",
              "    .colab-df-container {\n",
              "      display:flex;\n",
              "      flex-wrap:wrap;\n",
              "      gap: 12px;\n",
              "    }\n",
              "\n",
              "    .colab-df-convert {\n",
              "      background-color: #E8F0FE;\n",
              "      border: none;\n",
              "      border-radius: 50%;\n",
              "      cursor: pointer;\n",
              "      display: none;\n",
              "      fill: #1967D2;\n",
              "      height: 32px;\n",
              "      padding: 0 0 0 0;\n",
              "      width: 32px;\n",
              "    }\n",
              "\n",
              "    .colab-df-convert:hover {\n",
              "      background-color: #E2EBFA;\n",
              "      box-shadow: 0px 1px 2px rgba(60, 64, 67, 0.3), 0px 1px 3px 1px rgba(60, 64, 67, 0.15);\n",
              "      fill: #174EA6;\n",
              "    }\n",
              "\n",
              "    [theme=dark] .colab-df-convert {\n",
              "      background-color: #3B4455;\n",
              "      fill: #D2E3FC;\n",
              "    }\n",
              "\n",
              "    [theme=dark] .colab-df-convert:hover {\n",
              "      background-color: #434B5C;\n",
              "      box-shadow: 0px 1px 3px 1px rgba(0, 0, 0, 0.15);\n",
              "      filter: drop-shadow(0px 1px 2px rgba(0, 0, 0, 0.3));\n",
              "      fill: #FFFFFF;\n",
              "    }\n",
              "  </style>\n",
              "\n",
              "      <script>\n",
              "        const buttonEl =\n",
              "          document.querySelector('#df-bfc87693-c37c-45f0-8ff7-87bcb128a8ee button.colab-df-convert');\n",
              "        buttonEl.style.display =\n",
              "          google.colab.kernel.accessAllowed ? 'block' : 'none';\n",
              "\n",
              "        async function convertToInteractive(key) {\n",
              "          const element = document.querySelector('#df-bfc87693-c37c-45f0-8ff7-87bcb128a8ee');\n",
              "          const dataTable =\n",
              "            await google.colab.kernel.invokeFunction('convertToInteractive',\n",
              "                                                     [key], {});\n",
              "          if (!dataTable) return;\n",
              "\n",
              "          const docLinkHtml = 'Like what you see? Visit the ' +\n",
              "            '<a target=\"_blank\" href=https://colab.research.google.com/notebooks/data_table.ipynb>data table notebook</a>'\n",
              "            + ' to learn more about interactive tables.';\n",
              "          element.innerHTML = '';\n",
              "          dataTable['output_type'] = 'display_data';\n",
              "          await google.colab.output.renderOutput(dataTable, element);\n",
              "          const docLink = document.createElement('div');\n",
              "          docLink.innerHTML = docLinkHtml;\n",
              "          element.appendChild(docLink);\n",
              "        }\n",
              "      </script>\n",
              "    </div>\n",
              "  </div>\n"
            ]
          },
          "metadata": {},
          "execution_count": 83
        }
      ]
    },
    {
      "cell_type": "markdown",
      "source": [
        "## Pre-Process database containing spatially-joined zipcodes and CDC social vulnerability indices"
      ],
      "metadata": {
        "id": "YYetlKqLX7bO"
      }
    },
    {
      "cell_type": "code",
      "source": [
        "# Path to the spatially-joined zipcode and SVIs\n",
        "path_dbf = '/content/Spatial_Join_Zip_SVI.dbf'"
      ],
      "metadata": {
        "id": "cf8TWUl1YXN-"
      },
      "execution_count": 84,
      "outputs": []
    },
    {
      "cell_type": "code",
      "source": [
        "dbf = Dbf5(path_dbf) # Load dbf file\n",
        "svi = dbf.to_dataframe() # Convert to pd dataframe\n",
        "svi['zip'] = svi['zip'].astype('int') # Convert zipcodes to integers\n",
        "svi = svi.replace(-999, np.nan) # Replace -999 values with NaN following CDC conventions"
      ],
      "metadata": {
        "id": "6ovlXiuMaoAP"
      },
      "execution_count": 85,
      "outputs": []
    },
    {
      "cell_type": "code",
      "source": [
        "# Group SVI statistics by zip code\n",
        "svi_zip = {}\n",
        "svi_zip['zipcode'] = svi.groupby('zip')['zip'].unique().astype('int')\n",
        "\n",
        "svi_zip['all_mean'] = svi.groupby('zip')['RPL_THEMES'].mean()\n",
        "svi_zip['socioeconomic_mean'] = svi.groupby('zip')['RPL_THEME1'].mean()\n",
        "svi_zip['household_mean'] = svi.groupby('zip')['RPL_THEME2'].mean()\n",
        "svi_zip['minority_mean'] = svi.groupby('zip')['RPL_THEME3'].mean()\n",
        "svi_zip['housing_mean'] = svi.groupby('zip')['RPL_THEME4'].mean()\n",
        "\n",
        "svi_zip['all_min'] = svi.groupby('zip')['RPL_THEMES'].min()\n",
        "svi_zip['socioeconomic_min'] = svi.groupby('zip')['RPL_THEME1'].min()\n",
        "svi_zip['household_min'] = svi.groupby('zip')['RPL_THEME2'].min()\n",
        "svi_zip['minority_min'] = svi.groupby('zip')['RPL_THEME3'].min()\n",
        "svi_zip['housing_min'] = svi.groupby('zip')['RPL_THEME4'].min()\n",
        "\n",
        "svi_zip['all_max'] = svi.groupby('zip')['RPL_THEMES'].max()\n",
        "svi_zip['socioeconomic_max'] = svi.groupby('zip')['RPL_THEME1'].max()\n",
        "svi_zip['household_max'] = svi.groupby('zip')['RPL_THEME2'].max()\n",
        "svi_zip['minority_max'] = svi.groupby('zip')['RPL_THEME3'].max()\n",
        "svi_zip['housing_max'] = svi.groupby('zip')['RPL_THEME4'].max()"
      ],
      "metadata": {
        "id": "t82x6XAgb5v2"
      },
      "execution_count": 86,
      "outputs": []
    },
    {
      "cell_type": "code",
      "source": [
        "# Convert svi_zip to a pandas dataframe\n",
        "svi_zip = pd.DataFrame(svi_zip)"
      ],
      "metadata": {
        "id": "SQ03E8VAb7Kb"
      },
      "execution_count": 87,
      "outputs": []
    },
    {
      "cell_type": "markdown",
      "source": [
        "## Link mean weekly drop in respiratory visits to CDC social vulnerability indices"
      ],
      "metadata": {
        "id": "yvgydl_XcPu4"
      }
    },
    {
      "cell_type": "code",
      "source": [
        "# Merge diff with svi_zip based on 'zip'\n",
        "svi_zip_diff = svi_zip.merge(diff, on='zip')"
      ],
      "metadata": {
        "id": "LB9Cgdnka_sN"
      },
      "execution_count": 88,
      "outputs": []
    },
    {
      "cell_type": "markdown",
      "source": [
        "# Simple statistics"
      ],
      "metadata": {
        "id": "6X8HaYy8brKa"
      }
    },
    {
      "cell_type": "code",
      "source": [
        "# Find the column that anti-correlates best with the 'diff' column\n",
        "# Use Pearson correlation coefficient to find the column that correlates best with 'diff'\n",
        "corr_matrix = svi_zip_diff.corr(method='pearson', numeric_only=True)\n",
        "# Find the column that correlates best with the 'drop_in_patients' column\n",
        "best_corr = corr_matrix['drop_in_patients'].sort_values(ascending=False)"
      ],
      "metadata": {
        "id": "gymPjdw0cfPx"
      },
      "execution_count": 89,
      "outputs": []
    },
    {
      "cell_type": "code",
      "source": [
        "best_corr"
      ],
      "metadata": {
        "colab": {
          "base_uri": "https://localhost:8080/"
        },
        "id": "OEppUF8jchsx",
        "outputId": "3c5ed314-fda9-4725-dd6e-be8cd9420cbc"
      },
      "execution_count": 90,
      "outputs": [
        {
          "output_type": "execute_result",
          "data": {
            "text/plain": [
              "drop_in_patients      1.000000\n",
              "2016-2019             0.487933\n",
              "minority_max          0.395504\n",
              "minority_mean         0.382384\n",
              "all_max               0.330821\n",
              "household_max         0.328728\n",
              "2020                  0.303415\n",
              "socioeconomic_max     0.275342\n",
              "housing_max           0.273742\n",
              "minority_min          0.192178\n",
              "all_mean              0.183204\n",
              "socioeconomic_mean    0.165366\n",
              "household_mean        0.106115\n",
              "housing_mean          0.089007\n",
              "zipcode               0.039119\n",
              "zip                   0.039119\n",
              "socioeconomic_min    -0.070746\n",
              "all_min              -0.119467\n",
              "household_min        -0.161922\n",
              "housing_min          -0.207925\n",
              "six-week-diff        -1.000000\n",
              "Name: drop_in_patients, dtype: float64"
            ]
          },
          "metadata": {},
          "execution_count": 90
        }
      ]
    },
    {
      "cell_type": "code",
      "source": [
        "# Extract county-mean SVIs\n",
        "best_corr_mean = {k:v for k,v in best_corr.items() if 'mean' in k}"
      ],
      "metadata": {
        "id": "HYBA2FSfcxNL"
      },
      "execution_count": 94,
      "outputs": []
    },
    {
      "cell_type": "code",
      "source": [
        "best_corr_mean"
      ],
      "metadata": {
        "colab": {
          "base_uri": "https://localhost:8080/"
        },
        "id": "TvcpjvXLdAF5",
        "outputId": "78502d8b-25d4-4a56-a5be-363e297f5e61"
      },
      "execution_count": 95,
      "outputs": [
        {
          "output_type": "execute_result",
          "data": {
            "text/plain": [
              "{'minority_mean': 0.38238386573476707,\n",
              " 'all_mean': 0.1832035777504049,\n",
              " 'socioeconomic_mean': 0.16536637890313388,\n",
              " 'household_mean': 0.10611452347326496,\n",
              " 'housing_mean': 0.08900725832392199}"
            ]
          },
          "metadata": {},
          "execution_count": 95
        }
      ]
    },
    {
      "cell_type": "code",
      "source": [
        "# Turn it into a horizontal bar plot\n",
        "fig,ax = plt.subplots(figsize=(12.5,7.5))\n",
        "# extract labels and values\n",
        "labels = list(best_corr_mean.keys())\n",
        "values = list(best_corr_mean.values())\n",
        "labels = labels[::-1] # change the order to go from most to least correlated\n",
        "values = values[::-1] # ditto\n",
        "\n",
        "# create a horizontal bar plot\n",
        "plt.barh(labels, values)\n",
        "\n",
        "# add labels and title\n",
        "plt.xlabel('Pearson correlation')\n",
        "plt.title('Correlation between SVIs and drop in respiratory visits')\n",
        "\n",
        "fig.savefig('Pearson_correlations.pdf', format='pdf')"
      ],
      "metadata": {
        "colab": {
          "base_uri": "https://localhost:8080/",
          "height": 654
        },
        "id": "PnZ0sBoodBRa",
        "outputId": "e6e50447-bf8d-4665-c628-c0872bf6e247"
      },
      "execution_count": 96,
      "outputs": [
        {
          "output_type": "display_data",
          "data": {
            "text/plain": [
              "<Figure size 1250x750 with 1 Axes>"
            ],
            "image/png": "[encoded data removed]"
          },
          "metadata": {}
        }
      ]
    },
    {
      "cell_type": "code",
      "source": [],
      "metadata": {
        "id": "FGjoC6acdDBB"
      },
      "execution_count": 93,
      "outputs": []
    }
  ]
}