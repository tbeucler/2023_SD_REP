{
  "nbformat": 4,
  "nbformat_minor": 0,
  "metadata": {
    "colab": {
      "provenance": [],
      "authorship_tag": "ABX9TyMCQAGN21GT/t0R/wTbfhJp",
      "include_colab_link": true
    },
    "kernelspec": {
      "name": "python3",
      "display_name": "Python 3"
    },
    "language_info": {
      "name": "python"
    }
  },
  "cells": [
    {
      "cell_type": "markdown",
      "metadata": {
        "id": "view-in-github",
        "colab_type": "text"
      },
      "source": [
        "<a href=\"https://colab.research.google.com/github/tbeucler/2023_SD_REP/blob/main/Figures_Tables.ipynb\" target=\"_parent\"><img src=\"https://colab.research.google.com/assets/colab-badge.svg\" alt=\"Open In Colab\"/></a>"
      ]
    },
    {
      "cell_type": "markdown",
      "source": [
        "We designed this notebook so that it can be run in Google Colab. To prepare the data, **please upload `RV_Zip_Count.csv`and `Spatial_Join_SVI.dbf` in \"Files\"**.  \n",
        "\n",
        "We will pre-process the data, then calculate simple statistics, and finally reproduce the study's figures."
      ],
      "metadata": {
        "id": "D07r2UZiTYRL"
      }
    },
    {
      "cell_type": "markdown",
      "source": [
        "# Data Pre-Processing"
      ],
      "metadata": {
        "id": "9XK6DhYmTFwf"
      }
    },
    {
      "cell_type": "code",
      "source": [],
      "metadata": {
        "id": "bmm5t9K3TVU3"
      },
      "execution_count": null,
      "outputs": []
    }
  ]
}